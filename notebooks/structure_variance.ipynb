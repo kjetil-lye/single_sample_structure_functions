{
 "cells": [
  {
   "cell_type": "code",
   "execution_count": 1,
   "metadata": {},
   "outputs": [
    {
     "name": "stderr",
     "output_type": "stream",
     "text": [
      "C:\\Users\\kjeti\\Anaconda3\\lib\\site-packages\\matplotlib2tikz\\__init__.py:31: UserWarning: matplotlib2tikz has been renamed to tikzplotlib (which is Python-3-only). matplotlib2tikz will no longer be supported.\n",
      "  warnings.warn(\"matplotlib2tikz has been renamed to tikzplotlib (which is Python-3-only). matplotlib2tikz will no longer be supported.\")\n"
     ]
    }
   ],
   "source": [
    "import numpy as np\n",
    "import matplotlib\n",
    "matplotlib.rcParams['savefig.dpi'] = 600\n",
    "%matplotlib inline\n",
    "\n",
    "import matplotlib.pyplot as plt\n",
    "\n",
    "import re\n",
    "import sys\n",
    "import os\n",
    "import os.path\n",
    "sys.path.append('../python')\n",
    "\n",
    "import plot_info\n",
    "from plot_info import showAndSave\n",
    "import netCDF4\n",
    "from IPython.core.display import display, HTML\n",
    "import matplotlib2tikz\n",
    "import copy\n",
    "import json\n",
    "import traceback\n",
    "with open('structure_functions_functionals_configs.json') as f:\n",
    "    configurations = json.load(f)\n",
    "\n",
    "def for_each_config(f):\n",
    "    oldPrefix = copy.deepcopy(showAndSave.prefix)\n",
    "    for conf in configurations.keys():\n",
    "        \n",
    "        plot_info.console_log(conf)\n",
    "        headline(configurations[conf]['name'])\n",
    "        showAndSave.prefix = oldPrefix + conf\n",
    "        try:\n",
    "            f(configurations[conf])\n",
    "        except Exception as e:\n",
    "            message = \"Skipping {fname} on {conf} ({confname})\\n\\tReason: {reason}\\nTraceback: {traceback}\".format(fname=str(f),\n",
    "                                                                                                       conf=conf, \n",
    "                                                                                                       confname=configurations[conf]['name'],\n",
    "                                                                                                       reason=str(e),\n",
    "                                                                                                     traceback=traceback.format_exc())\n",
    "            plot_info.console_log(message)\n",
    "            print(message)\n",
    "    showAndSave.prefix=oldPrefix\n",
    "\n",
    "plot_info.set_notebook_name(\"structure_variance.ipynb\")"
   ]
  },
  {
   "cell_type": "code",
   "execution_count": 2,
   "metadata": {},
   "outputs": [],
   "source": [
    "def headline(text):\n",
    "    display(HTML(\"<h1>%s</h1>\"%text))\n",
    "def h2(text):\n",
    "    display(HTML(\"<h2>%s</h2>\"%text))\n",
    "def h3(text):\n",
    "    display(HTML(\"<h3>%s</h3>\"%text))\n",
    "def h4(text):\n",
    "    display(HTML(\"<h4>%s</h4>\"%text))\n",
    "def h5(text):\n",
    "    display(HTML(\"<h4>%s</h4>\"%text))"
   ]
  },
  {
   "cell_type": "code",
   "execution_count": 3,
   "metadata": {},
   "outputs": [],
   "source": [
    "def readnetcdf4(filename, variable,sample):\n",
    "    \n",
    "    with netCDF4.Dataset(filename) as f:\n",
    "        return f.variables[f'sample_{sample}_{variable}'][:,0,0]\n",
    "    \n",
    "def get_number_of_samples(filename):\n",
    "    max_sample = 0\n",
    "    with netCDF4.Dataset(filename) as f:\n",
    "        for v in f.variables.keys():\n",
    "            match = re.search(r'sample_(\\d+)_', v)\n",
    "            if match:\n",
    "                sample = int(match.group(1))\n",
    "                max_sample = max(sample, max_sample)\n",
    "    return max_sample+1\n",
    "\n",
    "def upscale(d, r):\n",
    "\n",
    "    while d.shape[0] < r:\n",
    "       \n",
    "        d = np.repeat(d,2,0)\n",
    "    return d\n",
    "\n",
    "\n",
    "def plotscalings(d,d_var, r,title, exponent_mean, exponent_var):\n",
    "    N = len(d)\n",
    "    H = np.linspace(0, 64./2048,N)\n",
    "   \n",
    "    poly = np.polyfit(np.log(H[1:]), np.log(d[1:]),1)\n",
    "    \n",
    "        \n",
    "    fig = plt.figure(0)\n",
    "    plt.title(title)\n",
    "    ax = plt.gca()\n",
    "    \n",
    "    p = ax.errorbar(H[1:] ,d[1:], yerr=np.sqrt(d_var[1:]), label='$N=%d$'%r)\n",
    "    ax.set_xscale(\"log\", basex=2)\n",
    "    ax.set_yscale(\"log\", basey=2)\n",
    "    ax.loglog(H[1:], np.exp(poly[1])*H[1:]**(poly[0]), '--',\n",
    "              label=f'$\\\\mathcal{{O}}(h^{{{poly[0]:.2f}}})$'\n",
    "              f'($\\\\mathrm{{exponent}}={exponent_mean:.2f}\\\\pm{np.sqrt(exponent_var):.3f}$)',\n",
    "              color=p[0].get_color(), basex=2, basey=2)\n",
    "    box = ax.get_position()\n",
    "    \n",
    "    plot_info.legendLeft()\n",
    "    ax.grid(True)\n",
    "\n",
    "def estimate_exponents(samples, resolution):\n",
    "    exponent = []\n",
    "    H = np.linspace(0, 32.0/1024., int(32*resolution/1024))\n",
    "    for sample in samples:\n",
    "        poly = np.polyfit(np.log(H[1:]), np.log(sample[1:]), 1)\n",
    "        \n",
    "        exponent.append(poly[0])\n",
    "    return exponent\n",
    "\n",
    "\n",
    "def getlineintegral(filename, variables, resolution, p):\n",
    "    all_samples = []\n",
    "    for sample in range(get_number_of_samples(filename)):\n",
    "        structure = np.zeros(int(32*resolution/1024))\n",
    "        for variable in variables:\n",
    "            d = readnetcdf4(filename, variable, sample)\n",
    "            dx = 1.0/resolution\n",
    "            \n",
    "            for h in range(1,len(d)):\n",
    "                d[h] += d[h-1]\n",
    "            for h in range(1,len(d)):\n",
    "                d[h] /=(2*h+1)**2\n",
    "                \n",
    "            structure += d\n",
    "        all_samples.append(structure**(1.0/p))\n",
    "    exponents = estimate_exponents(all_samples, resolution)\n",
    "            \n",
    "    return np.mean(all_samples, 0), np.var(all_samples, 0), np.mean(exponents), np.var(exponents)\n",
    "    "
   ]
  },
  {
   "cell_type": "code",
   "execution_count": null,
   "metadata": {
    "scrolled": false
   },
   "outputs": [
    {
     "name": "stdout",
     "output_type": "stream",
     "text": [
      "kh\n"
     ]
    },
    {
     "data": {
      "text/html": [
       "<h1>Kelvin-Helmholtz</h1>"
      ],
      "text/plain": [
       "<IPython.core.display.HTML object>"
      ]
     },
     "metadata": {},
     "output_type": "display_data"
    },
    {
     "data": {
      "text/html": [
       "<h1>Component convergence Box averaged structure functions</h1>"
      ],
      "text/plain": [
       "<IPython.core.display.HTML object>"
      ]
     },
     "metadata": {},
     "output_type": "display_data"
    },
    {
     "data": {
      "text/html": [
       "<h2>perturbation = 0.06</h2>"
      ],
      "text/plain": [
       "<IPython.core.display.HTML object>"
      ]
     },
     "metadata": {},
     "output_type": "display_data"
    },
    {
     "data": {
      "text/html": [
       "<h3>p = 1</h3>"
      ],
      "text/plain": [
       "<IPython.core.display.HTML object>"
      ]
     },
     "metadata": {},
     "output_type": "display_data"
    },
    {
     "data": {
      "text/html": [
       "<h4>t = 1.600000</h4>"
      ],
      "text/plain": [
       "<IPython.core.display.HTML object>"
      ]
     },
     "metadata": {},
     "output_type": "display_data"
    },
    {
     "name": "stderr",
     "output_type": "stream",
     "text": [
      "C:\\Users\\kjeti\\Anaconda3\\lib\\site-packages\\matplotlib\\cbook\\__init__.py:424: MatplotlibDeprecationWarning: \n",
      "Passing one of 'on', 'true', 'off', 'false' as a boolean is deprecated; use an actual boolean (True/False) instead.\n",
      "  warn_deprecated(\"2.2\", \"Passing one of 'on', 'true', 'off', 'false' as a \"\n"
     ]
    }
   ],
   "source": [
    "def convergence_structure_functions(config):\n",
    "    headline(\"Component convergence Box averaged structure functions\")\n",
    "    variables = ['rho', 'mx','my', 'E']\n",
    "    perturbations = config['perturbations']\n",
    "    Tarray = config['Tarray']\n",
    "    resolutions = config['resolutions']\n",
    "    cube_filename = config['cube_filename']\n",
    "    name = config['name']\n",
    "    maxT = config['maxT']\n",
    "    for perturbation in perturbations:\n",
    "        h2(\"perturbation = %.2f\" % perturbation)\n",
    "        for p in [1,2,3]:\n",
    "            h3(\"p = %d\" % p)\n",
    "            timeArray = Tarray\n",
    "                \n",
    "            for t in timeArray:\n",
    "                h4(\"t = %f\" % (0.2*t))\n",
    "\n",
    "                errors = np.zeros(len(resolutions)-1)\n",
    "\n",
    "\n",
    "                for (nr, resolution) in enumerate(resolutions):        \n",
    "                    filename = cube_filename.format(perturbation = perturbation, p=p,t=t,resolution=resolution)\n",
    "\n",
    "                    structure_mean, structure_variance, exponent_mean, exponent_var = getlineintegral(filename, variables, resolution, p)\n",
    "                    \n",
    "\n",
    "                    if resolution > resolutions[0]:\n",
    "                        errors[nr-1] = abs(structure_mean[-1]-structure_mean_prev[-1])\n",
    "                    structure_mean_prev = np.repeat(structure_mean,2,0)\n",
    "                    \n",
    "                    t_start = config.get(\"t_start\", 0.0)\n",
    "                    time = t_start\n",
    "                    if max(timeArray) > 0:\n",
    "                        time += t * maxT / max(timeArray)\n",
    "                    if len(perturbations) > 1:\n",
    "                        title = f'Scaling for {name}, $t={time},p={p},\\\\varepsilon={perturbation}$'\n",
    "                    else:\n",
    "                        title = f'Scaling for {name}, $t={time},p={p}$'\n",
    "\n",
    "                    plotscalings(structure_mean, structure_variance, resolution, title, \n",
    "                                 exponent_mean, exponent_var)\n",
    "                    \n",
    "                    plt.xlabel('$h$')\n",
    "                    if p != 1:\n",
    "                        plt.ylabel('$\\\\left(\\\\bar{S}^{%d}_{1/N,N}(h)\\\\right)^{\\\\frac{1}{%d}}$' % (p,p))\n",
    "                    else:\n",
    "                        \n",
    "                        plt.ylabel('$\\\\bar{S}^{%d}_{1/N,N}(h)$' % (p))\n",
    "                for nr in range(len(resolutions)-1):\n",
    "                    errors[nr] = abs(errors[nr])\n",
    "\n",
    "                showAndSave('scaling_mean_var_{name}_{p}_{perturbation}_{time}'.format(name=name.replace('$','').replace(' ',\"_\").replace('=',''), p=p, perturbation=perturbation, time=t))\n",
    "                plt.loglog(resolutions[1:],errors,'-o',label='%s' % variable, basex=2, basey=2)\n",
    "                \n",
    "                plt.ylim([2.0**(np.floor(np.log2(min(errors))))/1.1, 1.1*2.0**(np.ceil(np.log2(max(errors))))])\n",
    "                if len(perturbations)>1:\n",
    "                    title = f'{name}, $p={p}, t={time}, \\\\varepsilon={perturbation}$'\n",
    "                else:\n",
    "                    title = f'{name}, $p={p}, t={time}$'\n",
    "\n",
    "                plt.title(title)\n",
    "                plt.xlabel('Resolution')\n",
    "                plt.ylabel('$|S^{%d}_{\\Delta x,M}(h_{\\\\max})-S^{%d}_{2\\Delta x,M}(h_{\\\\max})|$' % (p,p) )\n",
    "                plt.grid(True)\n",
    "                plt.xticks(resolutions[1:], ['${r}^3$'.format(r=r) for r in resolutions[1:]])\n",
    "                showAndSave('convergence_mean_{name}_{p}_{perturbation}_{time}'.format(name=name.replace('$','').replace(' ',\"_\").replace('=',''), p=p, perturbation=perturbation, time=t))\n",
    "                \n",
    "for_each_config(convergence_structure_functions)"
   ]
  },
  {
   "cell_type": "code",
   "execution_count": null,
   "metadata": {},
   "outputs": [],
   "source": [
    "x=linspace(0,1,20)\n",
    "plt.errorbar(x, x**2, yerr=np.sqrt(x))"
   ]
  },
  {
   "cell_type": "code",
   "execution_count": null,
   "metadata": {},
   "outputs": [],
   "source": []
  }
 ],
 "metadata": {
  "kernelspec": {
   "display_name": "Python 3",
   "language": "python",
   "name": "python3"
  },
  "language_info": {
   "codemirror_mode": {
    "name": "ipython",
    "version": 3
   },
   "file_extension": ".py",
   "mimetype": "text/x-python",
   "name": "python",
   "nbconvert_exporter": "python",
   "pygments_lexer": "ipython3",
   "version": "3.7.3"
  }
 },
 "nbformat": 4,
 "nbformat_minor": 2
}
